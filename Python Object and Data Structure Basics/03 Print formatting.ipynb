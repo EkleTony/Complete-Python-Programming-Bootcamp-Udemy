{
 "cells": [
  {
   "cell_type": "markdown",
   "metadata": {},
   "source": [
    "# Print Formating\n",
    "\n",
    "This part covers various ways to format the print statements. As we code more and more, we will probably want to have print statements that can take in a variable into a printed string statement"
   ]
  },
  {
   "cell_type": "code",
   "execution_count": 1,
   "metadata": {},
   "outputs": [
    {
     "name": "stdout",
     "output_type": "stream",
     "text": [
      "this is a string\n"
     ]
    }
   ],
   "source": [
    "#basic print\n",
    "print('this is a string')"
   ]
  },
  {
   "cell_type": "markdown",
   "metadata": {},
   "source": [
    "# Method 1"
   ]
  },
  {
   "cell_type": "code",
   "execution_count": 13,
   "metadata": {},
   "outputs": [
    {
     "name": "stdout",
     "output_type": "stream",
     "text": [
      "Place my name here: 'Anthony'\n"
     ]
    }
   ],
   "source": [
    "r = 'Anthony'\n",
    "\n",
    "print('Place my name here: %r' %(r))"
   ]
  },
  {
   "cell_type": "markdown",
   "metadata": {},
   "source": [
    "# method 2"
   ]
  },
  {
   "cell_type": "code",
   "execution_count": 20,
   "metadata": {},
   "outputs": [
    {
     "name": "stdout",
     "output_type": "stream",
     "text": [
      "floating point number: 123.5\n"
     ]
    }
   ],
   "source": [
    "print('floating point number: %1.1f' %(123.453))\n",
    "# in %1.2f 1: total digit and .2 max no: after decimal"
   ]
  },
  {
   "cell_type": "code",
   "execution_count": 25,
   "metadata": {},
   "outputs": [
    {
     "name": "stdout",
     "output_type": "stream",
     "text": [
      "floating point number:    123.453\n",
      "while %10.3f we have large spaces\n"
     ]
    }
   ],
   "source": [
    "print('floating point number: %10.3f' %(123.453))\n",
    "print('while %10.3f we have large spaces')"
   ]
  },
  {
   "cell_type": "markdown",
   "metadata": {},
   "source": [
    "# converting method"
   ]
  },
  {
   "cell_type": "code",
   "execution_count": 27,
   "metadata": {},
   "outputs": [
    {
     "name": "stdout",
     "output_type": "stream",
     "text": [
      "convert to string 123\n"
     ]
    }
   ],
   "source": [
    "print('convert to string %s' %(123))"
   ]
  },
  {
   "cell_type": "code",
   "execution_count": 28,
   "metadata": {},
   "outputs": [
    {
     "name": "stdout",
     "output_type": "stream",
     "text": [
      "first: HI, second: two, Third: 25\n"
     ]
    }
   ],
   "source": [
    "# printing multiple\n",
    "\n",
    "print('first: %s, second: %s, Third: %s' %('HI', 'two', 25))"
   ]
  },
  {
   "cell_type": "code",
   "execution_count": 29,
   "metadata": {},
   "outputs": [
    {
     "name": "stdout",
     "output_type": "stream",
     "text": [
      "First: insert Second: two Third: insert\n"
     ]
    }
   ],
   "source": [
    " print('First: {x} Second: {y} Third: {x}'.format(x='insert', y='two') )"
   ]
  },
  {
   "cell_type": "code",
   "execution_count": 32,
   "metadata": {},
   "outputs": [
    {
     "name": "stdout",
     "output_type": "stream",
     "text": [
      "name: Ekle, Ocheme Anthony \n",
      " Age: 24 years \n",
      " School MIPT\n"
     ]
    }
   ],
   "source": [
    "print('name: {name} Age: {age} School {sch}'.format(name='Ekle, Ocheme Anthony \\n', age='24 years \\n', sch='MIPT'))"
   ]
  },
  {
   "cell_type": "code",
   "execution_count": 56,
   "metadata": {},
   "outputs": [
    {
     "name": "stdout",
     "output_type": "stream",
     "text": [
      "this YOung Man is Anthony\n"
     ]
    }
   ],
   "source": [
    "y = 'YOung'\n",
    "m = 'Man'\n",
    "print('this {y} {m} is {name}'.format(y=y, m=m, name='Anthony'))"
   ]
  },
  {
   "cell_type": "code",
   "execution_count": null,
   "metadata": {},
   "outputs": [],
   "source": []
  }
 ],
 "metadata": {
  "kernelspec": {
   "display_name": "Python 3.6 (tensorflow)",
   "language": "python",
   "name": "tensorflow"
  },
  "language_info": {
   "codemirror_mode": {
    "name": "ipython",
    "version": 3
   },
   "file_extension": ".py",
   "mimetype": "text/x-python",
   "name": "python",
   "nbconvert_exporter": "python",
   "pygments_lexer": "ipython3",
   "version": "3.6.10"
  }
 },
 "nbformat": 4,
 "nbformat_minor": 4
}
