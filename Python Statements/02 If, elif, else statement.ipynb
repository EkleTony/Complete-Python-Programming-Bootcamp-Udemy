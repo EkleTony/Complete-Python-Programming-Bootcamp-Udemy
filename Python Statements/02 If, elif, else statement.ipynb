{
 "cells": [
  {
   "cell_type": "markdown",
   "metadata": {},
   "source": [
    "# If, elif, else Statement"
   ]
  },
  {
   "cell_type": "markdown",
   "metadata": {},
   "source": [
    "* If statements in Python allows us to tell the computer to perform alternative actions based on a certain set of results. if A then do B\n",
    "\n",
    "* Elif and else statement, allows us to tell the computer:\n",
    "**if this case happens, perform some action. else if another case happens, perform some other action. Else--none of the above cases happened, perform this action**"
   ]
  },
  {
   "cell_type": "markdown",
   "metadata": {},
   "source": [
    "**syntax**\n",
    "\n",
    "if case1:\n",
    "\n",
    "     perform action1\n",
    "     \n",
    "elif case2:\n",
    "\n",
    "      perfomm action2\n",
    "      \n",
    "else:\n",
    "\n",
    "        perform action3"
   ]
  },
  {
   "cell_type": "markdown",
   "metadata": {},
   "source": [
    "# Examples"
   ]
  },
  {
   "cell_type": "code",
   "execution_count": 1,
   "metadata": {},
   "outputs": [
    {
     "name": "stdout",
     "output_type": "stream",
     "text": [
      "It was true bro\n"
     ]
    }
   ],
   "source": [
    "if True:\n",
    "    print('It was true bro')"
   ]
  },
  {
   "cell_type": "code",
   "execution_count": 4,
   "metadata": {},
   "outputs": [
    {
     "name": "stdout",
     "output_type": "stream",
     "text": [
      "x was True\n"
     ]
    }
   ],
   "source": [
    "x= True\n",
    "\n",
    "if x:\n",
    "    print('x was True')\n",
    "else:\n",
    "    print('I will print when x is anything not True')"
   ]
  },
  {
   "cell_type": "code",
   "execution_count": 9,
   "metadata": {},
   "outputs": [
    {
     "name": "stdout",
     "output_type": "stream",
     "text": [
      "Enter location:Mall\n",
      "Welcome to the Mall\n"
     ]
    }
   ],
   "source": [
    "loc = input('Enter location:')\n",
    "\n",
    "if loc == 'Auto shop':\n",
    "    print('Welcome to the Auto shop')\n",
    "elif loc == 'Bank':\n",
    "    print('Welcome to the bank')\n",
    "elif loc == 'Abuja':\n",
    "    print('Welcome to the Abuja')\n",
    "elif loc == 'Mall':\n",
    "    print('Welcome to the Mall')\n",
    "else:\n",
    "    print('Where are you')"
   ]
  },
  {
   "cell_type": "code",
   "execution_count": 12,
   "metadata": {},
   "outputs": [
    {
     "name": "stdout",
     "output_type": "stream",
     "text": [
      "enter name: Tony\n",
      "Name not caption\n"
     ]
    }
   ],
   "source": [
    "person = input('enter name: ')\n",
    "\n",
    "if person == 'Sam':\n",
    "    print('Hi Sam')\n",
    "else:\n",
    "    print('Name not caption')"
   ]
  },
  {
   "cell_type": "code",
   "execution_count": null,
   "metadata": {},
   "outputs": [],
   "source": []
  }
 ],
 "metadata": {
  "kernelspec": {
   "display_name": "Python 3.6 (tensorflow)",
   "language": "python",
   "name": "tensorflow"
  },
  "language_info": {
   "codemirror_mode": {
    "name": "ipython",
    "version": 3
   },
   "file_extension": ".py",
   "mimetype": "text/x-python",
   "name": "python",
   "nbconvert_exporter": "python",
   "pygments_lexer": "ipython3",
   "version": "3.6.10"
  }
 },
 "nbformat": 4,
 "nbformat_minor": 4
}
