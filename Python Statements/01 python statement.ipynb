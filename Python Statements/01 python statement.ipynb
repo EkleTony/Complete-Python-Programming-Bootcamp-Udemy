{
 "cells": [
  {
   "cell_type": "markdown",
   "metadata": {},
   "source": [
    "# Python vs other languages"
   ]
  },
  {
   "cell_type": "markdown",
   "metadata": {},
   "source": [
    "# Version 1 (Other languages)\n",
    "\n",
    "if (a>b){\n",
    "\n",
    "    a =2;\n",
    "    \n",
    "    b =4;\n",
    "    \n",
    "}"
   ]
  },
  {
   "cell_type": "markdown",
   "metadata": {},
   "source": [
    "# Version 2 (python)\n",
    "\n",
    "if a >b:\n",
    "    \n",
    "    a = 2\n",
    "    \n",
    "    b =2"
   ]
  },
  {
   "cell_type": "markdown",
   "metadata": {},
   "source": [
    "* Python gets rid of () and {} by incorpating two main factors: a colon and whitesoace.\n",
    "The statement is ended with a colon, and whitespace is used (indentation) to describe what takes place in case of the statement\n",
    "\n",
    "* Another major difference is the lack of semicolons in python. semicolons are used to denote statement endings in many other languages, but in python, the end of a line is the same as the end of a statement\n",
    "\n",
    "* Lastly, Indentation syntax in python vs other languages "
   ]
  },
  {
   "cell_type": "markdown",
   "metadata": {},
   "source": [
    "# other languages\n",
    "\n",
    "if (x)\n",
    "\n",
    "    if(y)\n",
    "        code-statement;\n",
    "else\n",
    "\n",
    "    another-code-statement"
   ]
  },
  {
   "cell_type": "markdown",
   "metadata": {},
   "source": [
    "# python\n",
    "\n",
    "if x:\n",
    "\n",
    "    if y:\n",
    "    \n",
    "        code-statement\n",
    "        \n",
    "else:\n",
    "\n",
    "     another-code-statement"
   ]
  },
  {
   "cell_type": "code",
   "execution_count": null,
   "metadata": {},
   "outputs": [],
   "source": []
  }
 ],
 "metadata": {
  "kernelspec": {
   "display_name": "Python 3.6 (tensorflow)",
   "language": "python",
   "name": "tensorflow"
  },
  "language_info": {
   "codemirror_mode": {
    "name": "ipython",
    "version": 3
   },
   "file_extension": ".py",
   "mimetype": "text/x-python",
   "name": "python",
   "nbconvert_exporter": "python",
   "pygments_lexer": "ipython3",
   "version": "3.6.10"
  }
 },
 "nbformat": 4,
 "nbformat_minor": 4
}
