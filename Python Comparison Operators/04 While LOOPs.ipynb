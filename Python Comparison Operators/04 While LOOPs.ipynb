{
 "cells": [
  {
   "cell_type": "markdown",
   "metadata": {},
   "source": [
    "# While LOOPs"
   ]
  },
  {
   "cell_type": "markdown",
   "metadata": {},
   "source": [
    "The while loopd will repeatedly execute a single statements until a true value occurs. The reason it is called a 'loop' is because the code statements are looped through over and over again until the condition is met.\n",
    "\n",
    "* The general format of a while loop is:\n",
    "\n",
    "While test:\n",
    "\n",
    "        code statement\n",
    "    \n",
    "    else:\n",
    "    \n",
    "             final code statements"
   ]
  },
  {
   "cell_type": "code",
   "execution_count": 4,
   "metadata": {},
   "outputs": [
    {
     "name": "stdout",
     "output_type": "stream",
     "text": [
      "Hello X is currently:  0\n",
      "Hello X is currently:  1\n",
      "Hello X is currently:  2\n",
      "Hello X is currently:  3\n",
      "Hello X is currently:  4\n",
      "Hello X is currently:  5\n",
      "Hello X is currently:  6\n",
      "Hello X is currently:  7\n",
      "Hello X is currently:  8\n",
      "Hello X is currently:  9\n"
     ]
    }
   ],
   "source": [
    "x= 0\n",
    "while x < 10:\n",
    "    print('Hello X is currently: ',x)\n",
    "    x =x+1"
   ]
  },
  {
   "cell_type": "markdown",
   "metadata": {},
   "source": [
    "# While else condition"
   ]
  },
  {
   "cell_type": "code",
   "execution_count": 6,
   "metadata": {},
   "outputs": [
    {
     "name": "stdout",
     "output_type": "stream",
     "text": [
      "X is currently:  0\n",
      "X is currently:  1\n",
      "X is currently:  2\n",
      "X is currently:  3\n",
      "X is currently:  4\n",
      "X is currently:  5\n",
      "X is currently:  6\n",
      "X is currently:  7\n",
      "X is currently:  8\n",
      "X is currently:  9\n",
      "All is done\n"
     ]
    }
   ],
   "source": [
    "x =0\n",
    "while x < 10:\n",
    "    print('X is currently: ', x)\n",
    "    x +=1\n",
    "    \n",
    "else:\n",
    "    print('All is done')"
   ]
  },
  {
   "cell_type": "markdown",
   "metadata": {},
   "source": [
    "# Break , continue and pass\n",
    "\n",
    "* Break: breaks out of the current closest enclosing loop\n",
    "\n",
    "* Continue: goes to the top of the closest enclosing loop\n",
    "\n",
    "* Pass: Does nothing at all"
   ]
  },
  {
   "cell_type": "markdown",
   "metadata": {},
   "source": [
    "while test:\n",
    " \n",
    "     code statement\n",
    "     \n",
    "     if test:\n",
    "         \n",
    "         break\n",
    "      \n",
    "      if test:\n",
    "      \n",
    "              continue\n",
    "      else:"
   ]
  },
  {
   "cell_type": "code",
   "execution_count": 11,
   "metadata": {},
   "outputs": [
    {
     "name": "stdout",
     "output_type": "stream",
     "text": [
      "x is currently:  0\n",
      " x is still is less than 10, adding 1 to x\n",
      "Continue---\n",
      "x is currently:  1\n",
      " x is still is less than 10, adding 1 to x\n",
      "Continue---\n",
      "x is currently:  2\n",
      " x is still is less than 10, adding 1 to x\n",
      "Hey x equals 3!\n",
      "x is currently:  3\n",
      " x is still is less than 10, adding 1 to x\n",
      "Continue---\n",
      "x is currently:  4\n",
      " x is still is less than 10, adding 1 to x\n",
      "Continue---\n",
      "x is currently:  5\n",
      " x is still is less than 10, adding 1 to x\n",
      "Continue---\n",
      "x is currently:  6\n",
      " x is still is less than 10, adding 1 to x\n",
      "Continue---\n",
      "x is currently:  7\n",
      " x is still is less than 10, adding 1 to x\n",
      "Continue---\n",
      "x is currently:  8\n",
      " x is still is less than 10, adding 1 to x\n",
      "Continue---\n",
      "x is currently:  9\n",
      " x is still is less than 10, adding 1 to x\n",
      "Continue---\n"
     ]
    }
   ],
   "source": [
    "#example\n",
    "\n",
    "x = 0\n",
    "while x<10:\n",
    "    print('x is currently: ',x)\n",
    "    print(' x is still is less than 10, adding 1 to x')\n",
    "    x +=1\n",
    "    \n",
    "    if x==3:\n",
    "        print('Hey x equals 3!')\n",
    "    else:\n",
    "        print('Continue---')\n",
    "        continue"
   ]
  },
  {
   "cell_type": "code",
   "execution_count": 14,
   "metadata": {},
   "outputs": [
    {
     "name": "stdout",
     "output_type": "stream",
     "text": [
      "x is currently:  0\n",
      " x is still is less than 10, adding 1 to x\n",
      "Continue---\n",
      "x is currently:  1\n",
      " x is still is less than 10, adding 1 to x\n",
      "Continue---\n",
      "x is currently:  2\n",
      " x is still is less than 10, adding 1 to x\n",
      "Hey x equals 3!\n"
     ]
    }
   ],
   "source": [
    "#example with break\n",
    "\n",
    "x = 0\n",
    "while x<10:\n",
    "    print('x is currently: ',x)\n",
    "    print(' x is still is less than 10, adding 1 to x')\n",
    "    x +=1\n",
    "    \n",
    "    if x==3:\n",
    "        print('Hey x equals 3!')\n",
    "        break\n",
    "    else:\n",
    "        print('Continue---')\n",
    "        continue"
   ]
  },
  {
   "cell_type": "code",
   "execution_count": null,
   "metadata": {},
   "outputs": [],
   "source": []
  }
 ],
 "metadata": {
  "kernelspec": {
   "display_name": "Python 3.6 (tensorflow)",
   "language": "python",
   "name": "tensorflow"
  },
  "language_info": {
   "codemirror_mode": {
    "name": "ipython",
    "version": 3
   },
   "file_extension": ".py",
   "mimetype": "text/x-python",
   "name": "python",
   "nbconvert_exporter": "python",
   "pygments_lexer": "ipython3",
   "version": "3.6.10"
  }
 },
 "nbformat": 4,
 "nbformat_minor": 4
}
